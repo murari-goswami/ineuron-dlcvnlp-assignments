{
 "cells": [
  {
   "cell_type": "markdown",
   "metadata": {},
   "source": [
    "### Assignment with questions and answers"
   ]
  },
  {
   "cell_type": "raw",
   "metadata": {},
   "source": [
    "1. Create the below pattern using nested for loop in Python.\n",
    "\n",
    "*\n",
    "** \n",
    "*** \n",
    "**** \n",
    "***** \n",
    "**** \n",
    "*** \n",
    "**\n",
    "*"
   ]
  },
  {
   "cell_type": "code",
   "execution_count": 1,
   "metadata": {},
   "outputs": [
    {
     "name": "stdout",
     "output_type": "stream",
     "text": [
      "*\n",
      "**\n",
      "***\n",
      "****\n",
      "*****\n",
      "****\n",
      "***\n",
      "**\n",
      "*\n"
     ]
    }
   ],
   "source": [
    "half_way = 5\n",
    "lower_boundary = 1\n",
    "for i in range(1, 2*half_way):\n",
    "    if (i <= half_way):\n",
    "        for j in range(1, i+1):\n",
    "            print('*', end='')\n",
    "    else:\n",
    "        for j in range(half_way, lower_boundary, -1):\n",
    "            print('*', end='')\n",
    "        half_way -= 1\n",
    "    print('\\r')\n"
   ]
  },
  {
   "cell_type": "markdown",
   "metadata": {},
   "source": [
    "2. Write a Python program to reverse a word after accepting the input from the user.\n",
    "* Sample Output:\n",
    "* Input word: ineuron Output: norueni"
   ]
  },
  {
   "cell_type": "code",
   "execution_count": 2,
   "metadata": {},
   "outputs": [
    {
     "name": "stdin",
     "output_type": "stream",
     "text": [
      "Enter a word ineuron\n"
     ]
    },
    {
     "name": "stdout",
     "output_type": "stream",
     "text": [
      "norueni"
     ]
    }
   ],
   "source": [
    "word = input('Enter a word').strip()\n",
    "length_of_word = len(word)\n",
    "for i in range(length_of_word, 0, -1):\n",
    "    print(word[i-1], end = '')    "
   ]
  },
  {
   "cell_type": "raw",
   "metadata": {},
   "source": [
    "Alternate solution using python in-build list utility"
   ]
  },
  {
   "cell_type": "code",
   "execution_count": 3,
   "metadata": {},
   "outputs": [
    {
     "name": "stdin",
     "output_type": "stream",
     "text": [
      "Enter a word ineuron\n"
     ]
    },
    {
     "name": "stdout",
     "output_type": "stream",
     "text": [
      "norueni\n"
     ]
    }
   ],
   "source": [
    "word = input('Enter a word').strip()\n",
    "print(word[::-1])"
   ]
  }
 ],
 "metadata": {
  "kernelspec": {
   "display_name": "Python 3",
   "language": "python",
   "name": "python3"
  },
  "language_info": {
   "codemirror_mode": {
    "name": "ipython",
    "version": 3
   },
   "file_extension": ".py",
   "mimetype": "text/x-python",
   "name": "python",
   "nbconvert_exporter": "python",
   "pygments_lexer": "ipython3",
   "version": "3.7.7"
  }
 },
 "nbformat": 4,
 "nbformat_minor": 4
}
