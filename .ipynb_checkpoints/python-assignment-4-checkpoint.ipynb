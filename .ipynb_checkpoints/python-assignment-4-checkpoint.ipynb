{
 "cells": [
  {
   "cell_type": "markdown",
   "metadata": {},
   "source": [
    "### Assignment with questions and answers"
   ]
  },
  {
   "cell_type": "markdown",
   "metadata": {},
   "source": [
    "1.1 Write a Python Program(with class concepts) to find the area of the triangle using the below formula.\n",
    "* area = (s*(s-a)*(s-b)*(s-c)) ** 0.5\n",
    "* Function to take the length of the sides of triangle from user should be defined in the parent class and function to calculate the area should be defined in subclass."
   ]
  },
  {
   "cell_type": "code",
   "execution_count": 1,
   "metadata": {},
   "outputs": [],
   "source": [
    "class Traingle:\n",
    "    def __init__(self):\n",
    "        self.a = 0\n",
    "        self.b = 0\n",
    "        self.c = 0\n",
    "        \n",
    "    def take_input(self):\n",
    "        self.a = int(input('a:'))\n",
    "        self.b = int(input('b:'))\n",
    "        self.c = int(input('c:'))\n",
    "    \n",
    "class Area(Traingle):\n",
    "    def __init__(self):\n",
    "        super().__init__()\n",
    "        \n",
    "    def area(self):\n",
    "        a = self.a\n",
    "        b = self.b\n",
    "        c = self.c\n",
    "        s = (a + b + c) /2\n",
    "        area = (s*(s-a)*(s-b)*(s-c)) ** 0.5\n",
    "        return area"
   ]
  },
  {
   "cell_type": "code",
   "execution_count": 2,
   "metadata": {},
   "outputs": [
    {
     "name": "stdin",
     "output_type": "stream",
     "text": [
      "a: 2\n",
      "b: 3\n",
      "c: 4\n"
     ]
    },
    {
     "name": "stdout",
     "output_type": "stream",
     "text": [
      "Area of the traingle is 2.9047375096555625\n"
     ]
    }
   ],
   "source": [
    "traingle = Area()\n",
    "traingle.take_input()\n",
    "print(f\"Area of the traingle is {traingle.area()}\")"
   ]
  },
  {
   "cell_type": "code",
   "execution_count": null,
   "metadata": {},
   "outputs": [],
   "source": []
  },
  {
   "cell_type": "markdown",
   "metadata": {},
   "source": [
    "1.2 Write a function filter_long_words() that takes a list of words and an integer n and returns\n",
    "the list of words that are longer than n."
   ]
  },
  {
   "cell_type": "code",
   "execution_count": 3,
   "metadata": {},
   "outputs": [
    {
     "name": "stdout",
     "output_type": "stream",
     "text": [
      "['elon', 'sundar', 'jeff', 'jack']\n"
     ]
    }
   ],
   "source": [
    "def filter_long_words(list_of_words, n):\n",
    "    ls = []\n",
    "    for items in list_of_words:\n",
    "        if len(items) > n:\n",
    "            ls.append(items)        \n",
    "    return ls\n",
    "\n",
    "lis = ['elon', 'sundar', 'tim', 'jeff', 'jack', 'tim', 'su']\n",
    "print(f\"{filter_long_words(lis, 3)}\")"
   ]
  },
  {
   "cell_type": "code",
   "execution_count": null,
   "metadata": {},
   "outputs": [],
   "source": []
  },
  {
   "cell_type": "markdown",
   "metadata": {},
   "source": [
    "2.1 Write a Python program using function concept that maps list of words into a list of integers representing the lengths of the corresponding words.\n",
    "* Hint: If a list [ ab,cde,erty] is passed on to the python function output should come as [2,3,4]\n",
    "* Here 2,3 and 4 are the lengths of the words in the list."
   ]
  },
  {
   "cell_type": "code",
   "execution_count": 4,
   "metadata": {},
   "outputs": [
    {
     "name": "stdout",
     "output_type": "stream",
     "text": [
      "[4, 6, 3, 4, 4, 3, 2]\n"
     ]
    }
   ],
   "source": [
    "def word_2_length(list_of_words):    \n",
    "    return [len(item) for item in list_of_words]\n",
    "    \n",
    "lis = ['elon', 'sundar', 'tim', 'jeff', 'jack', 'tim', 'su']\n",
    "print(word_2_length(lis))"
   ]
  },
  {
   "cell_type": "code",
   "execution_count": 5,
   "metadata": {},
   "outputs": [
    {
     "name": "stdout",
     "output_type": "stream",
     "text": [
      "[4, 6, 3, 4, 4, 3, 2]\n"
     ]
    }
   ],
   "source": [
    "# using map function\n",
    "\n",
    "print(list(map(lambda x: len(x), ['elon', 'sundar', 'tim', 'jeff', 'jack', 'tim', 'su'])))"
   ]
  },
  {
   "cell_type": "code",
   "execution_count": null,
   "metadata": {},
   "outputs": [],
   "source": []
  },
  {
   "cell_type": "markdown",
   "metadata": {},
   "source": [
    "2.2 Write a Python function which takes a character (i.e. a string of length 1) and returns True if it is a vowel, False otherwise."
   ]
  },
  {
   "cell_type": "code",
   "execution_count": 6,
   "metadata": {},
   "outputs": [
    {
     "name": "stdout",
     "output_type": "stream",
     "text": [
      " Is f a vowel ? False\n"
     ]
    }
   ],
   "source": [
    "def check_vowel(character):\n",
    "    return True if character in ['a', 'e', 'i', 'o', 'u'] else False\n",
    "    \n",
    "\n",
    "char = 'f'\n",
    "print(f\" Is f a vowel ? {check_vowel(char)}\")    \n",
    "    "
   ]
  }
 ],
 "metadata": {
  "kernelspec": {
   "display_name": "Python 3",
   "language": "python",
   "name": "python3"
  },
  "language_info": {
   "codemirror_mode": {
    "name": "ipython",
    "version": 3
   },
   "file_extension": ".py",
   "mimetype": "text/x-python",
   "name": "python",
   "nbconvert_exporter": "python",
   "pygments_lexer": "ipython3",
   "version": "3.7.7"
  }
 },
 "nbformat": 4,
 "nbformat_minor": 4
}
